{
  "nbformat": 4,
  "nbformat_minor": 0,
  "metadata": {
    "colab": {
      "provenance": [],
      "authorship_tag": "ABX9TyMp6bymjsb0vwUUH5TrIb1c",
      "include_colab_link": true
    },
    "kernelspec": {
      "name": "python3",
      "display_name": "Python 3"
    },
    "language_info": {
      "name": "python"
    }
  },
  "cells": [
    {
      "cell_type": "markdown",
      "metadata": {
        "id": "view-in-github",
        "colab_type": "text"
      },
      "source": [
        "<a href=\"https://colab.research.google.com/github/Isha752/Employee-Attrition-Analysis/blob/main/EmployeeAtrritionAnalysis.ipynb\" target=\"_parent\"><img src=\"https://colab.research.google.com/assets/colab-badge.svg\" alt=\"Open In Colab\"/></a>"
      ]
    },
    {
      "cell_type": "code",
      "source": [
        "# Upload file manually\n",
        "from google.colab import files\n",
        "uploaded = files.upload()\n",
        "\n"
      ],
      "metadata": {
        "colab": {
          "base_uri": "https://localhost:8080/",
          "height": 73
        },
        "id": "PYJueVCuuiNg",
        "outputId": "f9a78bca-86e2-46a5-eba4-39adf101a2d5"
      },
      "execution_count": 7,
      "outputs": [
        {
          "output_type": "display_data",
          "data": {
            "text/plain": [
              "<IPython.core.display.HTML object>"
            ],
            "text/html": [
              "\n",
              "     <input type=\"file\" id=\"files-614f77e9-adde-46c5-81e4-4550e434f8bd\" name=\"files[]\" multiple disabled\n",
              "        style=\"border:none\" />\n",
              "     <output id=\"result-614f77e9-adde-46c5-81e4-4550e434f8bd\">\n",
              "      Upload widget is only available when the cell has been executed in the\n",
              "      current browser session. Please rerun this cell to enable.\n",
              "      </output>\n",
              "      <script>// Copyright 2017 Google LLC\n",
              "//\n",
              "// Licensed under the Apache License, Version 2.0 (the \"License\");\n",
              "// you may not use this file except in compliance with the License.\n",
              "// You may obtain a copy of the License at\n",
              "//\n",
              "//      http://www.apache.org/licenses/LICENSE-2.0\n",
              "//\n",
              "// Unless required by applicable law or agreed to in writing, software\n",
              "// distributed under the License is distributed on an \"AS IS\" BASIS,\n",
              "// WITHOUT WARRANTIES OR CONDITIONS OF ANY KIND, either express or implied.\n",
              "// See the License for the specific language governing permissions and\n",
              "// limitations under the License.\n",
              "\n",
              "/**\n",
              " * @fileoverview Helpers for google.colab Python module.\n",
              " */\n",
              "(function(scope) {\n",
              "function span(text, styleAttributes = {}) {\n",
              "  const element = document.createElement('span');\n",
              "  element.textContent = text;\n",
              "  for (const key of Object.keys(styleAttributes)) {\n",
              "    element.style[key] = styleAttributes[key];\n",
              "  }\n",
              "  return element;\n",
              "}\n",
              "\n",
              "// Max number of bytes which will be uploaded at a time.\n",
              "const MAX_PAYLOAD_SIZE = 100 * 1024;\n",
              "\n",
              "function _uploadFiles(inputId, outputId) {\n",
              "  const steps = uploadFilesStep(inputId, outputId);\n",
              "  const outputElement = document.getElementById(outputId);\n",
              "  // Cache steps on the outputElement to make it available for the next call\n",
              "  // to uploadFilesContinue from Python.\n",
              "  outputElement.steps = steps;\n",
              "\n",
              "  return _uploadFilesContinue(outputId);\n",
              "}\n",
              "\n",
              "// This is roughly an async generator (not supported in the browser yet),\n",
              "// where there are multiple asynchronous steps and the Python side is going\n",
              "// to poll for completion of each step.\n",
              "// This uses a Promise to block the python side on completion of each step,\n",
              "// then passes the result of the previous step as the input to the next step.\n",
              "function _uploadFilesContinue(outputId) {\n",
              "  const outputElement = document.getElementById(outputId);\n",
              "  const steps = outputElement.steps;\n",
              "\n",
              "  const next = steps.next(outputElement.lastPromiseValue);\n",
              "  return Promise.resolve(next.value.promise).then((value) => {\n",
              "    // Cache the last promise value to make it available to the next\n",
              "    // step of the generator.\n",
              "    outputElement.lastPromiseValue = value;\n",
              "    return next.value.response;\n",
              "  });\n",
              "}\n",
              "\n",
              "/**\n",
              " * Generator function which is called between each async step of the upload\n",
              " * process.\n",
              " * @param {string} inputId Element ID of the input file picker element.\n",
              " * @param {string} outputId Element ID of the output display.\n",
              " * @return {!Iterable<!Object>} Iterable of next steps.\n",
              " */\n",
              "function* uploadFilesStep(inputId, outputId) {\n",
              "  const inputElement = document.getElementById(inputId);\n",
              "  inputElement.disabled = false;\n",
              "\n",
              "  const outputElement = document.getElementById(outputId);\n",
              "  outputElement.innerHTML = '';\n",
              "\n",
              "  const pickedPromise = new Promise((resolve) => {\n",
              "    inputElement.addEventListener('change', (e) => {\n",
              "      resolve(e.target.files);\n",
              "    });\n",
              "  });\n",
              "\n",
              "  const cancel = document.createElement('button');\n",
              "  inputElement.parentElement.appendChild(cancel);\n",
              "  cancel.textContent = 'Cancel upload';\n",
              "  const cancelPromise = new Promise((resolve) => {\n",
              "    cancel.onclick = () => {\n",
              "      resolve(null);\n",
              "    };\n",
              "  });\n",
              "\n",
              "  // Wait for the user to pick the files.\n",
              "  const files = yield {\n",
              "    promise: Promise.race([pickedPromise, cancelPromise]),\n",
              "    response: {\n",
              "      action: 'starting',\n",
              "    }\n",
              "  };\n",
              "\n",
              "  cancel.remove();\n",
              "\n",
              "  // Disable the input element since further picks are not allowed.\n",
              "  inputElement.disabled = true;\n",
              "\n",
              "  if (!files) {\n",
              "    return {\n",
              "      response: {\n",
              "        action: 'complete',\n",
              "      }\n",
              "    };\n",
              "  }\n",
              "\n",
              "  for (const file of files) {\n",
              "    const li = document.createElement('li');\n",
              "    li.append(span(file.name, {fontWeight: 'bold'}));\n",
              "    li.append(span(\n",
              "        `(${file.type || 'n/a'}) - ${file.size} bytes, ` +\n",
              "        `last modified: ${\n",
              "            file.lastModifiedDate ? file.lastModifiedDate.toLocaleDateString() :\n",
              "                                    'n/a'} - `));\n",
              "    const percent = span('0% done');\n",
              "    li.appendChild(percent);\n",
              "\n",
              "    outputElement.appendChild(li);\n",
              "\n",
              "    const fileDataPromise = new Promise((resolve) => {\n",
              "      const reader = new FileReader();\n",
              "      reader.onload = (e) => {\n",
              "        resolve(e.target.result);\n",
              "      };\n",
              "      reader.readAsArrayBuffer(file);\n",
              "    });\n",
              "    // Wait for the data to be ready.\n",
              "    let fileData = yield {\n",
              "      promise: fileDataPromise,\n",
              "      response: {\n",
              "        action: 'continue',\n",
              "      }\n",
              "    };\n",
              "\n",
              "    // Use a chunked sending to avoid message size limits. See b/62115660.\n",
              "    let position = 0;\n",
              "    do {\n",
              "      const length = Math.min(fileData.byteLength - position, MAX_PAYLOAD_SIZE);\n",
              "      const chunk = new Uint8Array(fileData, position, length);\n",
              "      position += length;\n",
              "\n",
              "      const base64 = btoa(String.fromCharCode.apply(null, chunk));\n",
              "      yield {\n",
              "        response: {\n",
              "          action: 'append',\n",
              "          file: file.name,\n",
              "          data: base64,\n",
              "        },\n",
              "      };\n",
              "\n",
              "      let percentDone = fileData.byteLength === 0 ?\n",
              "          100 :\n",
              "          Math.round((position / fileData.byteLength) * 100);\n",
              "      percent.textContent = `${percentDone}% done`;\n",
              "\n",
              "    } while (position < fileData.byteLength);\n",
              "  }\n",
              "\n",
              "  // All done.\n",
              "  yield {\n",
              "    response: {\n",
              "      action: 'complete',\n",
              "    }\n",
              "  };\n",
              "}\n",
              "\n",
              "scope.google = scope.google || {};\n",
              "scope.google.colab = scope.google.colab || {};\n",
              "scope.google.colab._files = {\n",
              "  _uploadFiles,\n",
              "  _uploadFilesContinue,\n",
              "};\n",
              "})(self);\n",
              "</script> "
            ]
          },
          "metadata": {}
        },
        {
          "output_type": "stream",
          "name": "stdout",
          "text": [
            "Saving WA_Fn-UseC_-HR-Employee-Attrition.csv to WA_Fn-UseC_-HR-Employee-Attrition.csv\n"
          ]
        }
      ]
    },
    {
      "cell_type": "code",
      "source": [
        "import pandas as pd"
      ],
      "metadata": {
        "id": "UTvAMndpum2B"
      },
      "execution_count": 8,
      "outputs": []
    },
    {
      "cell_type": "code",
      "source": [
        "df = pd.read_csv('WA_Fn-UseC_-HR-Employee-Attrition.csv')"
      ],
      "metadata": {
        "id": "KC0DwDh3uqLI"
      },
      "execution_count": 9,
      "outputs": []
    },
    {
      "cell_type": "code",
      "source": [
        "print(df.head())"
      ],
      "metadata": {
        "colab": {
          "base_uri": "https://localhost:8080/"
        },
        "id": "DmmdkZVRuuJV",
        "outputId": "046a6fa6-2295-473d-9acd-9f5aca363015"
      },
      "execution_count": 11,
      "outputs": [
        {
          "output_type": "stream",
          "name": "stdout",
          "text": [
            "   Age Attrition     BusinessTravel  DailyRate              Department  \\\n",
            "0   41       Yes      Travel_Rarely       1102                   Sales   \n",
            "1   49        No  Travel_Frequently        279  Research & Development   \n",
            "2   37       Yes      Travel_Rarely       1373  Research & Development   \n",
            "3   33        No  Travel_Frequently       1392  Research & Development   \n",
            "4   27        No      Travel_Rarely        591  Research & Development   \n",
            "\n",
            "   DistanceFromHome  Education EducationField  EmployeeCount  EmployeeNumber  \\\n",
            "0                 1          2  Life Sciences              1               1   \n",
            "1                 8          1  Life Sciences              1               2   \n",
            "2                 2          2          Other              1               4   \n",
            "3                 3          4  Life Sciences              1               5   \n",
            "4                 2          1        Medical              1               7   \n",
            "\n",
            "   ...  RelationshipSatisfaction StandardHours  StockOptionLevel  \\\n",
            "0  ...                         1            80                 0   \n",
            "1  ...                         4            80                 1   \n",
            "2  ...                         2            80                 0   \n",
            "3  ...                         3            80                 0   \n",
            "4  ...                         4            80                 1   \n",
            "\n",
            "   TotalWorkingYears  TrainingTimesLastYear WorkLifeBalance  YearsAtCompany  \\\n",
            "0                  8                      0               1               6   \n",
            "1                 10                      3               3              10   \n",
            "2                  7                      3               3               0   \n",
            "3                  8                      3               3               8   \n",
            "4                  6                      3               3               2   \n",
            "\n",
            "  YearsInCurrentRole  YearsSinceLastPromotion  YearsWithCurrManager  \n",
            "0                  4                        0                     5  \n",
            "1                  7                        1                     7  \n",
            "2                  0                        0                     0  \n",
            "3                  7                        3                     0  \n",
            "4                  2                        2                     2  \n",
            "\n",
            "[5 rows x 35 columns]\n"
          ]
        }
      ]
    },
    {
      "cell_type": "code",
      "source": [
        "print(df.info())"
      ],
      "metadata": {
        "colab": {
          "base_uri": "https://localhost:8080/"
        },
        "id": "RRdTgLSOu0sW",
        "outputId": "85db3fa1-7b3a-4410-e02e-74e7738ebebb"
      },
      "execution_count": 12,
      "outputs": [
        {
          "output_type": "stream",
          "name": "stdout",
          "text": [
            "<class 'pandas.core.frame.DataFrame'>\n",
            "RangeIndex: 1470 entries, 0 to 1469\n",
            "Data columns (total 35 columns):\n",
            " #   Column                    Non-Null Count  Dtype \n",
            "---  ------                    --------------  ----- \n",
            " 0   Age                       1470 non-null   int64 \n",
            " 1   Attrition                 1470 non-null   object\n",
            " 2   BusinessTravel            1470 non-null   object\n",
            " 3   DailyRate                 1470 non-null   int64 \n",
            " 4   Department                1470 non-null   object\n",
            " 5   DistanceFromHome          1470 non-null   int64 \n",
            " 6   Education                 1470 non-null   int64 \n",
            " 7   EducationField            1470 non-null   object\n",
            " 8   EmployeeCount             1470 non-null   int64 \n",
            " 9   EmployeeNumber            1470 non-null   int64 \n",
            " 10  EnvironmentSatisfaction   1470 non-null   int64 \n",
            " 11  Gender                    1470 non-null   object\n",
            " 12  HourlyRate                1470 non-null   int64 \n",
            " 13  JobInvolvement            1470 non-null   int64 \n",
            " 14  JobLevel                  1470 non-null   int64 \n",
            " 15  JobRole                   1470 non-null   object\n",
            " 16  JobSatisfaction           1470 non-null   int64 \n",
            " 17  MaritalStatus             1470 non-null   object\n",
            " 18  MonthlyIncome             1470 non-null   int64 \n",
            " 19  MonthlyRate               1470 non-null   int64 \n",
            " 20  NumCompaniesWorked        1470 non-null   int64 \n",
            " 21  Over18                    1470 non-null   object\n",
            " 22  OverTime                  1470 non-null   object\n",
            " 23  PercentSalaryHike         1470 non-null   int64 \n",
            " 24  PerformanceRating         1470 non-null   int64 \n",
            " 25  RelationshipSatisfaction  1470 non-null   int64 \n",
            " 26  StandardHours             1470 non-null   int64 \n",
            " 27  StockOptionLevel          1470 non-null   int64 \n",
            " 28  TotalWorkingYears         1470 non-null   int64 \n",
            " 29  TrainingTimesLastYear     1470 non-null   int64 \n",
            " 30  WorkLifeBalance           1470 non-null   int64 \n",
            " 31  YearsAtCompany            1470 non-null   int64 \n",
            " 32  YearsInCurrentRole        1470 non-null   int64 \n",
            " 33  YearsSinceLastPromotion   1470 non-null   int64 \n",
            " 34  YearsWithCurrManager      1470 non-null   int64 \n",
            "dtypes: int64(26), object(9)\n",
            "memory usage: 402.1+ KB\n",
            "None\n"
          ]
        }
      ]
    },
    {
      "cell_type": "code",
      "source": [
        "print(df.isnull().sum())"
      ],
      "metadata": {
        "colab": {
          "base_uri": "https://localhost:8080/"
        },
        "id": "fMOrf27Du3wH",
        "outputId": "76bc7e43-fe0c-4586-92c6-97fb3959e51f"
      },
      "execution_count": 13,
      "outputs": [
        {
          "output_type": "stream",
          "name": "stdout",
          "text": [
            "Age                         0\n",
            "Attrition                   0\n",
            "BusinessTravel              0\n",
            "DailyRate                   0\n",
            "Department                  0\n",
            "DistanceFromHome            0\n",
            "Education                   0\n",
            "EducationField              0\n",
            "EmployeeCount               0\n",
            "EmployeeNumber              0\n",
            "EnvironmentSatisfaction     0\n",
            "Gender                      0\n",
            "HourlyRate                  0\n",
            "JobInvolvement              0\n",
            "JobLevel                    0\n",
            "JobRole                     0\n",
            "JobSatisfaction             0\n",
            "MaritalStatus               0\n",
            "MonthlyIncome               0\n",
            "MonthlyRate                 0\n",
            "NumCompaniesWorked          0\n",
            "Over18                      0\n",
            "OverTime                    0\n",
            "PercentSalaryHike           0\n",
            "PerformanceRating           0\n",
            "RelationshipSatisfaction    0\n",
            "StandardHours               0\n",
            "StockOptionLevel            0\n",
            "TotalWorkingYears           0\n",
            "TrainingTimesLastYear       0\n",
            "WorkLifeBalance             0\n",
            "YearsAtCompany              0\n",
            "YearsInCurrentRole          0\n",
            "YearsSinceLastPromotion     0\n",
            "YearsWithCurrManager        0\n",
            "dtype: int64\n"
          ]
        }
      ]
    },
    {
      "cell_type": "code",
      "source": [
        "print(df.duplicated().sum())"
      ],
      "metadata": {
        "colab": {
          "base_uri": "https://localhost:8080/"
        },
        "id": "gqqUkfaRu6wT",
        "outputId": "ab80df19-02f7-4b15-f350-4aad29dcc19d"
      },
      "execution_count": 14,
      "outputs": [
        {
          "output_type": "stream",
          "name": "stdout",
          "text": [
            "0\n"
          ]
        }
      ]
    },
    {
      "cell_type": "code",
      "source": [
        "# Check how many employees left vs stayed\n",
        "print(\"Attrition value counts:\")\n",
        "print(df['Attrition'].value_counts())\n"
      ],
      "metadata": {
        "colab": {
          "base_uri": "https://localhost:8080/"
        },
        "id": "g1s8auRMv2om",
        "outputId": "e51cb03d-6451-49ba-c941-cac95465a125"
      },
      "execution_count": 15,
      "outputs": [
        {
          "output_type": "stream",
          "name": "stdout",
          "text": [
            "Attrition value counts:\n",
            "Attrition\n",
            "No     1233\n",
            "Yes     237\n",
            "Name: count, dtype: int64\n"
          ]
        }
      ]
    },
    {
      "cell_type": "code",
      "source": [
        "# Compare attrition with some key categorical features\n",
        "cat_cols = ['Gender', 'MaritalStatus', 'BusinessTravel', 'Department',\n",
        "            'EducationField', 'JobRole', 'OverTime']\n",
        "\n",
        "for col in cat_cols:\n",
        "    print(f\"\\n{col} vs Attrition:\")\n",
        "    print(pd.crosstab(df[col], df['Attrition'], normalize='index') * 100)\n"
      ],
      "metadata": {
        "colab": {
          "base_uri": "https://localhost:8080/"
        },
        "id": "x9LVS4r_v4FR",
        "outputId": "59319760-5ac0-4d21-db24-40c0c1f20d6b"
      },
      "execution_count": 16,
      "outputs": [
        {
          "output_type": "stream",
          "name": "stdout",
          "text": [
            "\n",
            "Gender vs Attrition:\n",
            "Attrition         No        Yes\n",
            "Gender                         \n",
            "Female     85.204082  14.795918\n",
            "Male       82.993197  17.006803\n",
            "\n",
            "MaritalStatus vs Attrition:\n",
            "Attrition             No        Yes\n",
            "MaritalStatus                      \n",
            "Divorced       89.908257  10.091743\n",
            "Married        87.518574  12.481426\n",
            "Single         74.468085  25.531915\n",
            "\n",
            "BusinessTravel vs Attrition:\n",
            "Attrition                 No        Yes\n",
            "BusinessTravel                         \n",
            "Non-Travel         92.000000   8.000000\n",
            "Travel_Frequently  75.090253  24.909747\n",
            "Travel_Rarely      85.043145  14.956855\n",
            "\n",
            "Department vs Attrition:\n",
            "Attrition                      No        Yes\n",
            "Department                                  \n",
            "Human Resources         80.952381  19.047619\n",
            "Research & Development  86.160250  13.839750\n",
            "Sales                   79.372197  20.627803\n",
            "\n",
            "EducationField vs Attrition:\n",
            "Attrition                No        Yes\n",
            "EducationField                        \n",
            "Human Resources   74.074074  25.925926\n",
            "Life Sciences     85.313531  14.686469\n",
            "Marketing         77.987421  22.012579\n",
            "Medical           86.422414  13.577586\n",
            "Other             86.585366  13.414634\n",
            "Technical Degree  75.757576  24.242424\n",
            "\n",
            "JobRole vs Attrition:\n",
            "Attrition                         No        Yes\n",
            "JobRole                                        \n",
            "Healthcare Representative  93.129771   6.870229\n",
            "Human Resources            76.923077  23.076923\n",
            "Laboratory Technician      76.061776  23.938224\n",
            "Manager                    95.098039   4.901961\n",
            "Manufacturing Director     93.103448   6.896552\n",
            "Research Director          97.500000   2.500000\n",
            "Research Scientist         83.904110  16.095890\n",
            "Sales Executive            82.515337  17.484663\n",
            "Sales Representative       60.240964  39.759036\n",
            "\n",
            "OverTime vs Attrition:\n",
            "Attrition         No        Yes\n",
            "OverTime                       \n",
            "No         89.563567  10.436433\n",
            "Yes        69.471154  30.528846\n"
          ]
        }
      ]
    },
    {
      "cell_type": "code",
      "source": [
        "# View descriptive statistics of numerical columns\n",
        "print(\"\\nSummary statistics of numeric columns:\")\n",
        "print(df.describe())\n"
      ],
      "metadata": {
        "colab": {
          "base_uri": "https://localhost:8080/"
        },
        "id": "Cc4wIgUCv7Hv",
        "outputId": "1a462bcb-5614-409d-a33a-ee00ccac20a7"
      },
      "execution_count": 17,
      "outputs": [
        {
          "output_type": "stream",
          "name": "stdout",
          "text": [
            "\n",
            "Summary statistics of numeric columns:\n",
            "               Age    DailyRate  DistanceFromHome    Education  EmployeeCount  \\\n",
            "count  1470.000000  1470.000000       1470.000000  1470.000000         1470.0   \n",
            "mean     36.923810   802.485714          9.192517     2.912925            1.0   \n",
            "std       9.135373   403.509100          8.106864     1.024165            0.0   \n",
            "min      18.000000   102.000000          1.000000     1.000000            1.0   \n",
            "25%      30.000000   465.000000          2.000000     2.000000            1.0   \n",
            "50%      36.000000   802.000000          7.000000     3.000000            1.0   \n",
            "75%      43.000000  1157.000000         14.000000     4.000000            1.0   \n",
            "max      60.000000  1499.000000         29.000000     5.000000            1.0   \n",
            "\n",
            "       EmployeeNumber  EnvironmentSatisfaction   HourlyRate  JobInvolvement  \\\n",
            "count     1470.000000              1470.000000  1470.000000     1470.000000   \n",
            "mean      1024.865306                 2.721769    65.891156        2.729932   \n",
            "std        602.024335                 1.093082    20.329428        0.711561   \n",
            "min          1.000000                 1.000000    30.000000        1.000000   \n",
            "25%        491.250000                 2.000000    48.000000        2.000000   \n",
            "50%       1020.500000                 3.000000    66.000000        3.000000   \n",
            "75%       1555.750000                 4.000000    83.750000        3.000000   \n",
            "max       2068.000000                 4.000000   100.000000        4.000000   \n",
            "\n",
            "          JobLevel  ...  RelationshipSatisfaction  StandardHours  \\\n",
            "count  1470.000000  ...               1470.000000         1470.0   \n",
            "mean      2.063946  ...                  2.712245           80.0   \n",
            "std       1.106940  ...                  1.081209            0.0   \n",
            "min       1.000000  ...                  1.000000           80.0   \n",
            "25%       1.000000  ...                  2.000000           80.0   \n",
            "50%       2.000000  ...                  3.000000           80.0   \n",
            "75%       3.000000  ...                  4.000000           80.0   \n",
            "max       5.000000  ...                  4.000000           80.0   \n",
            "\n",
            "       StockOptionLevel  TotalWorkingYears  TrainingTimesLastYear  \\\n",
            "count       1470.000000        1470.000000            1470.000000   \n",
            "mean           0.793878          11.279592               2.799320   \n",
            "std            0.852077           7.780782               1.289271   \n",
            "min            0.000000           0.000000               0.000000   \n",
            "25%            0.000000           6.000000               2.000000   \n",
            "50%            1.000000          10.000000               3.000000   \n",
            "75%            1.000000          15.000000               3.000000   \n",
            "max            3.000000          40.000000               6.000000   \n",
            "\n",
            "       WorkLifeBalance  YearsAtCompany  YearsInCurrentRole  \\\n",
            "count      1470.000000     1470.000000         1470.000000   \n",
            "mean          2.761224        7.008163            4.229252   \n",
            "std           0.706476        6.126525            3.623137   \n",
            "min           1.000000        0.000000            0.000000   \n",
            "25%           2.000000        3.000000            2.000000   \n",
            "50%           3.000000        5.000000            3.000000   \n",
            "75%           3.000000        9.000000            7.000000   \n",
            "max           4.000000       40.000000           18.000000   \n",
            "\n",
            "       YearsSinceLastPromotion  YearsWithCurrManager  \n",
            "count              1470.000000           1470.000000  \n",
            "mean                  2.187755              4.123129  \n",
            "std                   3.222430              3.568136  \n",
            "min                   0.000000              0.000000  \n",
            "25%                   0.000000              2.000000  \n",
            "50%                   1.000000              3.000000  \n",
            "75%                   3.000000              7.000000  \n",
            "max                  15.000000             17.000000  \n",
            "\n",
            "[8 rows x 26 columns]\n"
          ]
        }
      ]
    },
    {
      "cell_type": "code",
      "source": [
        "import seaborn as sns\n",
        "import matplotlib.pyplot as plt\n",
        "\n",
        "# Optional: set a theme for better visuals\n",
        "sns.set(style='whitegrid')\n"
      ],
      "metadata": {
        "id": "aaJCVIcmwFOT"
      },
      "execution_count": 18,
      "outputs": []
    },
    {
      "cell_type": "code",
      "source": [
        "# Basic count plot of Attrition\n",
        "sns.countplot(data=df, x='Attrition')\n",
        "plt.title('Employee Attrition Count')\n",
        "plt.show()\n"
      ],
      "metadata": {
        "colab": {
          "base_uri": "https://localhost:8080/",
          "height": 480
        },
        "id": "56saOZEcwHsX",
        "outputId": "64a0f703-358f-4870-8b16-8953f2811128"
      },
      "execution_count": 19,
      "outputs": [
        {
          "output_type": "display_data",
          "data": {
            "text/plain": [
              "<Figure size 640x480 with 1 Axes>"
            ],
            "image/png": "[encoded data removed]"
          },
          "metadata": {}
        }
      ]
    },
    {
      "cell_type": "code",
      "source": [
        "sns.boxplot(data=df, x='Attrition', y='JobSatisfaction')\n",
        "plt.title('Job Satisfaction by Attrition')\n",
        "plt.show()\n"
      ],
      "metadata": {
        "colab": {
          "base_uri": "https://localhost:8080/",
          "height": 480
        },
        "id": "SLLAEXL8wK9P",
        "outputId": "53811474-cee5-4c30-cd1f-729e44fb95c2"
      },
      "execution_count": 20,
      "outputs": [
        {
          "output_type": "display_data",
          "data": {
            "text/plain": [
              "<Figure size 640x480 with 1 Axes>"
            ],
            "image/png": "[encoded data removed]"
          },
          "metadata": {}
        }
      ]
    },
    {
      "cell_type": "code",
      "source": [
        "sns.boxplot(data=df, x='Attrition', y='WorkLifeBalance')\n",
        "plt.title('Work-Life Balance by Attrition')\n",
        "plt.show()\n"
      ],
      "metadata": {
        "colab": {
          "base_uri": "https://localhost:8080/",
          "height": 480
        },
        "id": "0fxvAJ4FwOFp",
        "outputId": "8221e7f5-2ac2-44b3-9ca4-b19099f33750"
      },
      "execution_count": 21,
      "outputs": [
        {
          "output_type": "display_data",
          "data": {
            "text/plain": [
              "<Figure size 640x480 with 1 Axes>"
            ],
            "image/png": "[encoded data removed]"
          },
          "metadata": {}
        }
      ]
    },
    {
      "cell_type": "code",
      "source": [
        "sns.boxplot(data=df, x='Attrition', y='MonthlyIncome')\n",
        "plt.title('Monthly Income by Attrition')\n",
        "plt.show()\n"
      ],
      "metadata": {
        "colab": {
          "base_uri": "https://localhost:8080/",
          "height": 480
        },
        "id": "_89VHhWOwSCb",
        "outputId": "8739e7f4-918c-4e56-ffe5-70881591db21"
      },
      "execution_count": 22,
      "outputs": [
        {
          "output_type": "display_data",
          "data": {
            "text/plain": [
              "<Figure size 640x480 with 1 Axes>"
            ],
            "image/png": "[encoded data removed]"
          },
          "metadata": {}
        }
      ]
    },
    {
      "cell_type": "code",
      "source": [
        "sns.countplot(data=df, x='OverTime', hue='Attrition')\n",
        "plt.title('Attrition by Overtime Status')\n",
        "plt.show()\n"
      ],
      "metadata": {
        "colab": {
          "base_uri": "https://localhost:8080/",
          "height": 480
        },
        "id": "Opw-ACXDwVZR",
        "outputId": "d168ca97-99f0-4c50-ee07-92584e7e71de"
      },
      "execution_count": 23,
      "outputs": [
        {
          "output_type": "display_data",
          "data": {
            "text/plain": [
              "<Figure size 640x480 with 1 Axes>"
            ],
            "image/png": "[encoded data removed]"
          },
          "metadata": {}
        }
      ]
    }
  ]
}